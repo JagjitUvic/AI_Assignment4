{
 "cells": [
  {
   "cell_type": "code",
   "execution_count": 58,
   "metadata": {},
   "outputs": [],
   "source": [
    "# adding all required modules\n",
    "\n",
    "import numpy as np\n",
    "import matplotlib.pyplot as plt\n",
    "import hmmlearn.hmm as hm\n",
    "\n",
    "# Hidden Markov Model with multinomial (discrete) emissions\n",
    "\n",
    "model_object = hm.MultinomialHMM(n_components=2)\n",
    "\n",
    "# starting probability healthy because given in question, he starts out healthy\n",
    "\n",
    "model_object.startprob_ = np.array([1.0, 0.0])\n",
    "\n",
    "# transmission probabilities\n",
    "model_object.transmat_ = np.array([[0.7, 0.3],\n",
    "                                   [0.5, 0.5]])\n",
    "\n",
    "# Emission probabilities \n",
    "model_object.emissionprob_=np.array([[0.2,0.1,0.7],\n",
    "                                     [0.3,0.6,0.1]])\n",
    "\n",
    "# generate 300 samples \n",
    "Emission,Transmission=model_object.sample(300)\n"
   ]
  },
  {
   "cell_type": "code",
   "execution_count": 59,
   "metadata": {},
   "outputs": [
    {
     "name": "stdout",
     "output_type": "stream",
     "text": [
      "['Healthy', 'Injured', 'Healthy', 'Injured', 'Healthy', 'Healthy', 'Healthy', 'Healthy', 'Injured', 'Injured', 'Healthy', 'Healthy', 'Healthy', 'Healthy', 'Healthy', 'Healthy', 'Healthy', 'Injured', 'Injured', 'Injured', 'Healthy', 'Healthy', 'Healthy', 'Healthy', 'Healthy', 'Healthy', 'Healthy', 'Injured', 'Healthy', 'Healthy', 'Healthy', 'Healthy', 'Injured', 'Healthy', 'Healthy', 'Injured', 'Healthy', 'Injured', 'Healthy', 'Healthy', 'Healthy', 'Healthy', 'Healthy', 'Healthy', 'Healthy', 'Healthy', 'Injured', 'Injured', 'Injured', 'Injured', 'Injured', 'Injured', 'Injured', 'Injured', 'Injured', 'Injured', 'Healthy', 'Healthy', 'Healthy', 'Healthy', 'Injured', 'Healthy', 'Injured', 'Injured', 'Injured', 'Injured', 'Healthy', 'Healthy', 'Injured', 'Healthy', 'Healthy', 'Healthy', 'Healthy', 'Injured', 'Injured', 'Healthy', 'Healthy', 'Healthy', 'Healthy', 'Healthy', 'Injured', 'Healthy', 'Healthy', 'Healthy', 'Injured', 'Injured', 'Injured', 'Healthy', 'Healthy', 'Healthy', 'Healthy', 'Healthy', 'Healthy', 'Healthy', 'Injured', 'Healthy', 'Injured', 'Healthy', 'Injured', 'Healthy', 'Injured', 'Injured', 'Healthy', 'Healthy', 'Injured', 'Healthy', 'Injured', 'Injured', 'Healthy', 'Injured', 'Injured', 'Injured', 'Injured', 'Injured', 'Healthy', 'Injured', 'Injured', 'Healthy', 'Healthy', 'Healthy', 'Injured', 'Injured', 'Injured', 'Injured', 'Injured', 'Injured', 'Injured', 'Injured', 'Injured', 'Healthy', 'Healthy', 'Injured', 'Injured', 'Healthy', 'Healthy', 'Injured', 'Healthy', 'Healthy', 'Healthy', 'Healthy', 'Healthy', 'Healthy', 'Healthy', 'Healthy', 'Healthy', 'Healthy', 'Injured', 'Healthy', 'Healthy', 'Healthy', 'Healthy', 'Injured', 'Injured', 'Healthy', 'Healthy', 'Injured', 'Injured', 'Injured', 'Healthy', 'Healthy', 'Healthy', 'Healthy', 'Healthy', 'Healthy', 'Healthy', 'Healthy', 'Healthy', 'Healthy', 'Healthy', 'Healthy', 'Healthy', 'Healthy', 'Healthy', 'Injured', 'Healthy', 'Healthy', 'Injured', 'Healthy', 'Healthy', 'Healthy', 'Healthy', 'Healthy', 'Healthy', 'Injured', 'Healthy', 'Healthy', 'Healthy', 'Healthy', 'Healthy', 'Healthy', 'Healthy', 'Injured', 'Injured', 'Healthy', 'Healthy', 'Healthy', 'Injured', 'Healthy', 'Healthy', 'Healthy', 'Injured', 'Injured', 'Injured', 'Healthy', 'Healthy', 'Healthy', 'Injured', 'Healthy', 'Injured', 'Injured', 'Injured', 'Healthy', 'Healthy', 'Injured', 'Healthy', 'Healthy', 'Injured', 'Injured', 'Injured', 'Injured', 'Injured', 'Injured', 'Healthy', 'Healthy', 'Injured', 'Healthy', 'Healthy', 'Healthy', 'Healthy', 'Injured', 'Injured', 'Injured', 'Injured', 'Injured', 'Healthy', 'Healthy', 'Healthy', 'Injured', 'Injured', 'Injured', 'Healthy', 'Injured', 'Injured', 'Healthy', 'Healthy', 'Healthy', 'Healthy', 'Healthy', 'Healthy', 'Healthy', 'Healthy', 'Healthy', 'Healthy', 'Healthy', 'Injured', 'Injured', 'Healthy', 'Healthy', 'Healthy', 'Healthy', 'Injured', 'Injured', 'Injured', 'Healthy', 'Injured', 'Healthy', 'Healthy', 'Injured', 'Healthy', 'Healthy', 'Healthy', 'Healthy', 'Healthy', 'Healthy', 'Injured', 'Healthy', 'Healthy', 'Injured', 'Healthy', 'Healthy', 'Healthy', 'Healthy', 'Injured', 'Injured', 'Healthy', 'Healthy', 'Injured', 'Injured', 'Injured', 'Injured', 'Injured', 'Injured', 'Injured', 'Injured', 'Healthy', 'Healthy', 'Healthy', 'Injured', 'Healthy', 'Injured']\n"
     ]
    }
   ],
   "source": [
    "Transmission_Sequence = []\n",
    "# Change transmission to print actual values\n",
    "for x in Transmission:\n",
    "    if x == 0:\n",
    "        Transmission_Sequence.append('Healthy')\n",
    "    else:\n",
    "        Transmission_Sequence.append('Injured')\n",
    "\n",
    "# print Sequence\n",
    "print Transmission_Sequence"
   ]
  },
  {
   "cell_type": "code",
   "execution_count": 25,
   "metadata": {},
   "outputs": [
    {
     "name": "stdout",
     "output_type": "stream",
     "text": [
      "['Pass', 'Pass', 'Shoot', 'Shoot', 'Shoot', 'Dribble', 'Shoot', 'Shoot', 'Pass', 'Shoot', 'Pass', 'Shoot', 'Pass', 'Shoot', 'Pass', 'Pass', 'Pass', 'Shoot', 'Shoot', 'Dribble', 'Shoot', 'Shoot', 'Shoot', 'Pass', 'Pass', 'Pass', 'Dribble', 'Shoot', 'Dribble', 'Pass', 'Dribble', 'Shoot', 'Shoot', 'Shoot', 'Dribble', 'Shoot', 'Pass', 'Shoot', 'Pass', 'Dribble', 'Shoot', 'Shoot', 'Shoot', 'Shoot', 'Pass', 'Pass', 'Shoot', 'Shoot', 'Dribble', 'Shoot', 'Dribble', 'Shoot', 'Shoot', 'Shoot', 'Shoot', 'Dribble', 'Pass', 'Pass', 'Pass', 'Shoot', 'Shoot', 'Pass', 'Dribble', 'Pass', 'Pass', 'Shoot', 'Shoot', 'Pass', 'Dribble', 'Dribble', 'Pass', 'Pass', 'Shoot', 'Pass', 'Pass', 'Shoot', 'Dribble', 'Pass', 'Pass', 'Shoot', 'Pass', 'Pass', 'Dribble', 'Pass', 'Pass', 'Shoot', 'Dribble', 'Dribble', 'Dribble', 'Dribble', 'Dribble', 'Pass', 'Shoot', 'Shoot', 'Shoot', 'Shoot', 'Shoot', 'Shoot', 'Shoot', 'Dribble', 'Pass', 'Dribble', 'Pass', 'Pass', 'Dribble', 'Pass', 'Shoot', 'Dribble', 'Shoot', 'Pass', 'Dribble', 'Shoot', 'Pass', 'Shoot', 'Pass', 'Shoot', 'Shoot', 'Shoot', 'Shoot', 'Pass', 'Pass', 'Pass', 'Pass', 'Shoot', 'Shoot', 'Dribble', 'Dribble', 'Shoot', 'Shoot', 'Pass', 'Shoot', 'Pass', 'Shoot', 'Shoot', 'Shoot', 'Shoot', 'Shoot', 'Shoot', 'Shoot', 'Shoot', 'Dribble', 'Shoot', 'Pass', 'Shoot', 'Pass', 'Pass', 'Shoot', 'Pass', 'Shoot', 'Dribble', 'Dribble', 'Shoot', 'Shoot', 'Dribble', 'Dribble', 'Dribble', 'Shoot', 'Shoot', 'Shoot', 'Pass', 'Shoot', 'Shoot', 'Pass', 'Shoot', 'Pass', 'Dribble', 'Pass', 'Shoot', 'Dribble', 'Shoot', 'Shoot', 'Dribble', 'Shoot', 'Dribble', 'Pass', 'Dribble', 'Shoot', 'Shoot', 'Shoot', 'Pass', 'Shoot', 'Shoot', 'Shoot', 'Dribble', 'Pass', 'Shoot', 'Shoot', 'Shoot', 'Pass', 'Pass', 'Dribble', 'Pass', 'Shoot', 'Shoot', 'Pass', 'Shoot', 'Shoot', 'Pass', 'Shoot', 'Shoot', 'Dribble', 'Shoot', 'Shoot', 'Shoot', 'Dribble', 'Shoot', 'Pass', 'Pass', 'Dribble', 'Pass', 'Pass', 'Shoot', 'Shoot', 'Pass', 'Pass', 'Dribble', 'Shoot', 'Shoot', 'Shoot', 'Shoot', 'Pass', 'Shoot', 'Pass', 'Dribble', 'Shoot', 'Dribble', 'Pass', 'Pass', 'Shoot', 'Shoot', 'Pass', 'Shoot', 'Dribble', 'Shoot', 'Shoot', 'Pass', 'Shoot', 'Dribble', 'Pass', 'Shoot', 'Pass', 'Dribble', 'Dribble', 'Pass', 'Shoot', 'Dribble', 'Pass', 'Pass', 'Pass', 'Pass', 'Pass', 'Dribble', 'Pass', 'Shoot', 'Shoot', 'Dribble', 'Pass', 'Shoot', 'Dribble', 'Pass', 'Shoot', 'Shoot', 'Shoot', 'Pass', 'Shoot', 'Shoot', 'Pass', 'Shoot', 'Pass', 'Dribble', 'Shoot', 'Pass', 'Pass', 'Shoot', 'Shoot', 'Pass', 'Shoot', 'Dribble', 'Shoot', 'Shoot', 'Dribble', 'Dribble', 'Pass', 'Shoot', 'Shoot', 'Shoot', 'Shoot', 'Shoot', 'Shoot', 'Shoot', 'Dribble', 'Shoot', 'Dribble', 'Pass', 'Pass', 'Pass', 'Pass', 'Pass', 'Shoot', 'Pass']\n"
     ]
    }
   ],
   "source": [
    "Emission_Sequence = []\n",
    "# Change emission to print actual values\n",
    "for x in Emission:\n",
    "    if x == 0:\n",
    "        Emission_Sequence.append('Dribble')\n",
    "    elif x == 1:\n",
    "        Emission_Sequence.append('Pass')\n",
    "    else:\n",
    "        Emission_Sequence.append('Shoot')\n",
    "\n",
    "# print Sequence\n",
    "print Emission_Sequence"
   ]
  },
  {
   "cell_type": "code",
   "execution_count": null,
   "metadata": {},
   "outputs": [],
   "source": []
  },
  {
   "cell_type": "code",
   "execution_count": 4,
   "metadata": {},
   "outputs": [
    {
     "name": "stdout",
     "output_type": "stream",
     "text": [
      "Who is the parent of Luke Skywalker :\n",
      "Darth Vader\n",
      "Who are the children of Darth Vader :\n",
      "['Leia Organa', 'Luke Skywalker']\n",
      "Who is the grandparent of of Kylo Ren :\n",
      "Darth Vader\n"
     ]
    }
   ],
   "source": [
    "# adding parent information to knowledge base\n",
    "Knowledge_Base ={'Leia Organa':'Kylo Ren','Darth Vader':['Leia Organa','Luke Skywalker'],'Han Solo':'Kylo Ren'}\n",
    "\n",
    "# parent function\n",
    "def children(parent):\n",
    "    for key,values in Knowledge_Base.items():\n",
    "        if key == parent:\n",
    "            print values\n",
    "            \n",
    "# children function\n",
    "def parent(children):\n",
    "    for key,values in Knowledge_Base.items():\n",
    "        if len(values) == 2:\n",
    "            if values[0] == children:\n",
    "                print key\n",
    "            elif values[1] == children:\n",
    "                print key\n",
    "        elif values == children:\n",
    "            print key\n",
    "\n",
    "# grandparent function\n",
    "def grandparent(children):\n",
    "    parent = []\n",
    "    for key,values in Knowledge_Base.items():\n",
    "        if len(values) == 2:\n",
    "            if values[0] == children:\n",
    "                parent.append(key)\n",
    "            elif values[1] == children:\n",
    "                parent.append(key)\n",
    "        elif values == children:\n",
    "            parent.append(key)\n",
    "    #for grandchild\n",
    "    for key,values in Knowledge_Base.items():\n",
    "        if len(values) == 2:\n",
    "            if values[0] == parent[0] or values[0] == parent[1]:\n",
    "                print key\n",
    "            elif values[1] == parent[1] or values[1] == parent[1]:\n",
    "                print key\n",
    "        elif values == parent[1] or values == parent[1]:\n",
    "            print key\n",
    "\n",
    "    \n",
    "\n",
    "print \"Who is the parent of Luke Skywalker :\"\n",
    "parent(children = 'Luke Skywalker')\n",
    "print \"Who are the children of Darth Vader :\"\n",
    "children(parent= 'Darth Vader');\n",
    "print \"Who is the grandparent of of Kylo Ren :\"\n",
    "grandparent(children = 'Kylo Ren')informatio"
   ]
  },
  {
   "cell_type": "code",
   "execution_count": null,
   "metadata": {},
   "outputs": [],
   "source": []
  },
  {
   "cell_type": "code",
   "execution_count": null,
   "metadata": {},
   "outputs": [],
   "source": []
  }
 ],
 "metadata": {
  "kernelspec": {
   "display_name": "Python 2",
   "language": "python",
   "name": "python2"
  },
  "language_info": {
   "codemirror_mode": {
    "name": "ipython",
    "version": 2
   },
   "file_extension": ".py",
   "mimetype": "text/x-python",
   "name": "python",
   "nbconvert_exporter": "python",
   "pygments_lexer": "ipython2",
   "version": "2.7.14"
  }
 },
 "nbformat": 4,
 "nbformat_minor": 2
}
